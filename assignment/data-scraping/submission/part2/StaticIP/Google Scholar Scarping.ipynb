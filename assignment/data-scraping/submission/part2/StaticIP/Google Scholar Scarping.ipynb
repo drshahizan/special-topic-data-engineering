{
 "cells": [
  {
   "cell_type": "code",
   "execution_count": 4,
   "id": "75381b26",
   "metadata": {},
   "outputs": [],
   "source": [
    "from serpapi import GoogleSearch\n",
    "import pandas as pd\n",
    "\n",
    "params = {\n",
    "  \"engine\": \"google_scholar\",\n",
    "  \"q\": [\"Faculty of Computing\", \"University of Technology Malaysia\", \"University Teknologi Malaysia\"],\n",
    "  \"api_key\": \"d85f885fa922044364556b1bb9f717a5618e5243b772573cc2ea3b1302ada8cd\"\n",
    "}\n",
    "\n",
    "search = GoogleSearch(params)\n",
    "results = search.get_dict()\n",
    "organic_results = results[\"organic_results\"]\n",
    "\n",
    "df = pd.DataFrame(organic_results)\n",
    "df.to_csv('result.csv') "
   ]
  },
  {
   "cell_type": "code",
   "execution_count": null,
   "id": "651aaf14",
   "metadata": {},
   "outputs": [],
   "source": []
  }
 ],
 "metadata": {
  "kernelspec": {
   "display_name": "Python 3 (ipykernel)",
   "language": "python",
   "name": "python3"
  },
  "language_info": {
   "codemirror_mode": {
    "name": "ipython",
    "version": 3
   },
   "file_extension": ".py",
   "mimetype": "text/x-python",
   "name": "python",
   "nbconvert_exporter": "python",
   "pygments_lexer": "ipython3",
   "version": "3.11.2"
  }
 },
 "nbformat": 4,
 "nbformat_minor": 5
}
