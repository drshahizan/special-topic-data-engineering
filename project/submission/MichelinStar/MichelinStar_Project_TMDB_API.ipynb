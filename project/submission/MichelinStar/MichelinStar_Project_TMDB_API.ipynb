{
  "nbformat": 4,
  "nbformat_minor": 0,
  "metadata": {
    "colab": {
      "provenance": [],
      "authorship_tag": "ABX9TyP7oOZMT4UVdio6gB/8fUlM",
      "include_colab_link": true
    },
    "kernelspec": {
      "name": "python3",
      "display_name": "Python 3"
    },
    "language_info": {
      "name": "python"
    }
  },
  "cells": [
    {
      "cell_type": "markdown",
      "metadata": {
        "id": "view-in-github",
        "colab_type": "text"
      },
      "source": [
        "<a href=\"https://colab.research.google.com/github/drshahizan/special-topic-data-engineering/blob/main/project/submission/MichelinStar/MichelinStar_Project_TMDB_API.ipynb\" target=\"_parent\"><img src=\"https://colab.research.google.com/assets/colab-badge.svg\" alt=\"Open In Colab\"/></a>"
      ]
    },
    {
      "cell_type": "code",
      "source": [
        "from google.colab import files\n",
        "import pandas as pd\n",
        "import requests\n",
        "\n",
        "response = requests.get('https://api.themoviedb.org/3/movie/top_rated?api_key=56db60834991ae2a9aca81812b1974c5&language=en-US&page=1')\n",
        "df = pd.DataFrame()  # Creating a DataFrame\n",
        "\n",
        "if response.status_code == 200:\n",
        "    for i in range(1, 30):\n",
        "        response = requests.get('https://api.themoviedb.org/3/movie/top_rated?api_key=56db60834991ae2a9aca81812b1974c5&language=en-US&page={}'.format(i))\n",
        "        results = response.json()['results']\n",
        "        temp_df = pd.DataFrame(results)[['id', 'title', 'overview', 'release_date', 'popularity', 'vote_average', 'vote_count']]\n",
        "\n",
        "        # Add a shorter overview column\n",
        "        temp_df['short_overview'] = temp_df['overview'].str[:70]\n",
        "\n",
        "        # Retrieve additional data for each movie\n",
        "        for index, row in temp_df.iterrows():\n",
        "            movie_id = row['id']\n",
        "            movie_response = requests.get(f'https://api.themoviedb.org/3/movie/{movie_id}?api_key=56db60834991ae2a9aca81812b1974c5&language=en-US')\n",
        "            movie_data = movie_response.json()\n",
        "\n",
        "            # Extract genres (first result only)\n",
        "            genres = [genre['name'] for genre in movie_data['genres']]\n",
        "            temp_df.at[index, 'genre'] = genres[0] if genres else 'Unknown'\n",
        "\n",
        "            # Extract runtime\n",
        "            temp_df.at[index, 'runtime'] = int(movie_data['runtime']) * 60\n",
        "\n",
        "            # Extract country (first result only)\n",
        "            production_countries = [country['name'] for country in movie_data['production_countries']]\n",
        "            temp_df.at[index, 'country'] = production_countries[0] if production_countries else 'Unknown'\n",
        "\n",
        "            # Extract actors\n",
        "            credits_response = requests.get(f'https://api.themoviedb.org/3/movie/{movie_id}/credits?api_key=56db60834991ae2a9aca81812b1974c5')\n",
        "            credits_data = credits_response.json()\n",
        "            actors = [actor['name'] for actor in credits_data['cast'][:3]]  # Retrieve top 3 actors\n",
        "            temp_df.at[index, 'actors'] = ', '.join(actors)\n",
        "\n",
        "            # Extract directors (first result only)\n",
        "            credits_response = requests.get(f'https://api.themoviedb.org/3/movie/{movie_id}/credits?api_key=56db60834991ae2a9aca81812b1974c5')\n",
        "            credits_data = credits_response.json()\n",
        "            directors = [crew['name'] for crew in credits_data['crew'] if crew['job'] == 'Director']\n",
        "            temp_df.at[index, 'director'] = directors[0] if directors else 'Unknown'\n",
        "\n",
        "            # Extract movie link\n",
        "            temp_df.at[index, 'movie_link'] = movie_data['homepage'] if 'homepage' in movie_data else 'Unknown'\n",
        "\n",
        "            # Extract trailer link\n",
        "            videos_response = requests.get(f'https://api.themoviedb.org/3/movie/{movie_id}/videos?api_key=56db60834991ae2a9aca81812b1974c5')\n",
        "            videos_data = videos_response.json()\n",
        "            trailers = [video['key'] for video in videos_data['results'] if video['type'] == 'Trailer']\n",
        "            if trailers:\n",
        "                temp_df.at[index, 'trailer_link'] = f\"https://www.youtube.com/watch?v={trailers[0]}\"\n",
        "\n",
        "        # Add default values for new columns\n",
        "        temp_df['feature'] = 1\n",
        "        temp_df['kid_restriction'] = 0\n",
        "\n",
        "        df = df.append(temp_df, ignore_index=True)\n",
        "else:\n",
        "    print('Error', response.status_code)\n",
        "\n",
        "df['rating'] = 0  # Initialize the 'rating' column with default value 0\n",
        "\n",
        "df.loc[df['vote_average'] > 8.3, 'rating'] = 5\n",
        "df.loc[(df['vote_average'] > 8.0) & (df['vote_average'] <= 8.3), 'rating'] = 4\n",
        "df.loc[(df['vote_average'] > 7.7) & (df['vote_average'] <= 8.0), 'rating'] = 3\n",
        "df.loc[(df['vote_average'] > 7.4) & (df['vote_average'] <= 7.7), 'rating'] = 2\n",
        "df.loc[(df['vote_average'] > 7.0) & (df['vote_average'] <= 7.4), 'rating'] = 1\n",
        "\n",
        "# Extract year from release_date\n",
        "df['release_year'] = pd.to_datetime(df['release_date']).dt.year\n",
        "\n",
        "print(df.shape)\n",
        "print(df.head(5))\n",
        "\n",
        "# Save the DataFrame as a CSV file\n",
        "df.to_csv('movie_top_rated.csv', index=False)"
      ],
      "metadata": {
        "colab": {
          "base_uri": "https://localhost:8080/"
        },
        "id": "T107kJKjHyKl",
        "outputId": "e372be89-565f-424a-89d5-edca1deb982b"
      },
      "execution_count": 35,
      "outputs": [
        {
          "output_type": "stream",
          "name": "stderr",
          "text": [
            "<ipython-input-35-c4a50447050f>:60: FutureWarning: The frame.append method is deprecated and will be removed from pandas in a future version. Use pandas.concat instead.\n",
            "  df = df.append(temp_df, ignore_index=True)\n",
            "<ipython-input-35-c4a50447050f>:60: FutureWarning: The frame.append method is deprecated and will be removed from pandas in a future version. Use pandas.concat instead.\n",
            "  df = df.append(temp_df, ignore_index=True)\n",
            "<ipython-input-35-c4a50447050f>:60: FutureWarning: The frame.append method is deprecated and will be removed from pandas in a future version. Use pandas.concat instead.\n",
            "  df = df.append(temp_df, ignore_index=True)\n",
            "<ipython-input-35-c4a50447050f>:60: FutureWarning: The frame.append method is deprecated and will be removed from pandas in a future version. Use pandas.concat instead.\n",
            "  df = df.append(temp_df, ignore_index=True)\n",
            "<ipython-input-35-c4a50447050f>:60: FutureWarning: The frame.append method is deprecated and will be removed from pandas in a future version. Use pandas.concat instead.\n",
            "  df = df.append(temp_df, ignore_index=True)\n",
            "<ipython-input-35-c4a50447050f>:60: FutureWarning: The frame.append method is deprecated and will be removed from pandas in a future version. Use pandas.concat instead.\n",
            "  df = df.append(temp_df, ignore_index=True)\n",
            "<ipython-input-35-c4a50447050f>:60: FutureWarning: The frame.append method is deprecated and will be removed from pandas in a future version. Use pandas.concat instead.\n",
            "  df = df.append(temp_df, ignore_index=True)\n",
            "<ipython-input-35-c4a50447050f>:60: FutureWarning: The frame.append method is deprecated and will be removed from pandas in a future version. Use pandas.concat instead.\n",
            "  df = df.append(temp_df, ignore_index=True)\n",
            "<ipython-input-35-c4a50447050f>:60: FutureWarning: The frame.append method is deprecated and will be removed from pandas in a future version. Use pandas.concat instead.\n",
            "  df = df.append(temp_df, ignore_index=True)\n",
            "<ipython-input-35-c4a50447050f>:60: FutureWarning: The frame.append method is deprecated and will be removed from pandas in a future version. Use pandas.concat instead.\n",
            "  df = df.append(temp_df, ignore_index=True)\n",
            "<ipython-input-35-c4a50447050f>:60: FutureWarning: The frame.append method is deprecated and will be removed from pandas in a future version. Use pandas.concat instead.\n",
            "  df = df.append(temp_df, ignore_index=True)\n",
            "<ipython-input-35-c4a50447050f>:60: FutureWarning: The frame.append method is deprecated and will be removed from pandas in a future version. Use pandas.concat instead.\n",
            "  df = df.append(temp_df, ignore_index=True)\n",
            "<ipython-input-35-c4a50447050f>:60: FutureWarning: The frame.append method is deprecated and will be removed from pandas in a future version. Use pandas.concat instead.\n",
            "  df = df.append(temp_df, ignore_index=True)\n",
            "<ipython-input-35-c4a50447050f>:60: FutureWarning: The frame.append method is deprecated and will be removed from pandas in a future version. Use pandas.concat instead.\n",
            "  df = df.append(temp_df, ignore_index=True)\n",
            "<ipython-input-35-c4a50447050f>:60: FutureWarning: The frame.append method is deprecated and will be removed from pandas in a future version. Use pandas.concat instead.\n",
            "  df = df.append(temp_df, ignore_index=True)\n",
            "<ipython-input-35-c4a50447050f>:60: FutureWarning: The frame.append method is deprecated and will be removed from pandas in a future version. Use pandas.concat instead.\n",
            "  df = df.append(temp_df, ignore_index=True)\n",
            "<ipython-input-35-c4a50447050f>:60: FutureWarning: The frame.append method is deprecated and will be removed from pandas in a future version. Use pandas.concat instead.\n",
            "  df = df.append(temp_df, ignore_index=True)\n",
            "<ipython-input-35-c4a50447050f>:60: FutureWarning: The frame.append method is deprecated and will be removed from pandas in a future version. Use pandas.concat instead.\n",
            "  df = df.append(temp_df, ignore_index=True)\n",
            "<ipython-input-35-c4a50447050f>:60: FutureWarning: The frame.append method is deprecated and will be removed from pandas in a future version. Use pandas.concat instead.\n",
            "  df = df.append(temp_df, ignore_index=True)\n",
            "<ipython-input-35-c4a50447050f>:60: FutureWarning: The frame.append method is deprecated and will be removed from pandas in a future version. Use pandas.concat instead.\n",
            "  df = df.append(temp_df, ignore_index=True)\n",
            "<ipython-input-35-c4a50447050f>:60: FutureWarning: The frame.append method is deprecated and will be removed from pandas in a future version. Use pandas.concat instead.\n",
            "  df = df.append(temp_df, ignore_index=True)\n",
            "<ipython-input-35-c4a50447050f>:60: FutureWarning: The frame.append method is deprecated and will be removed from pandas in a future version. Use pandas.concat instead.\n",
            "  df = df.append(temp_df, ignore_index=True)\n",
            "<ipython-input-35-c4a50447050f>:60: FutureWarning: The frame.append method is deprecated and will be removed from pandas in a future version. Use pandas.concat instead.\n",
            "  df = df.append(temp_df, ignore_index=True)\n",
            "<ipython-input-35-c4a50447050f>:60: FutureWarning: The frame.append method is deprecated and will be removed from pandas in a future version. Use pandas.concat instead.\n",
            "  df = df.append(temp_df, ignore_index=True)\n",
            "<ipython-input-35-c4a50447050f>:60: FutureWarning: The frame.append method is deprecated and will be removed from pandas in a future version. Use pandas.concat instead.\n",
            "  df = df.append(temp_df, ignore_index=True)\n",
            "<ipython-input-35-c4a50447050f>:60: FutureWarning: The frame.append method is deprecated and will be removed from pandas in a future version. Use pandas.concat instead.\n",
            "  df = df.append(temp_df, ignore_index=True)\n",
            "<ipython-input-35-c4a50447050f>:60: FutureWarning: The frame.append method is deprecated and will be removed from pandas in a future version. Use pandas.concat instead.\n",
            "  df = df.append(temp_df, ignore_index=True)\n",
            "<ipython-input-35-c4a50447050f>:60: FutureWarning: The frame.append method is deprecated and will be removed from pandas in a future version. Use pandas.concat instead.\n",
            "  df = df.append(temp_df, ignore_index=True)\n"
          ]
        },
        {
          "output_type": "stream",
          "name": "stdout",
          "text": [
            "(580, 19)\n",
            "       id                                title  \\\n",
            "0  569094  Spider-Man: Across the Spider-Verse   \n",
            "1     238                        The Godfather   \n",
            "2     278             The Shawshank Redemption   \n",
            "3     240                The Godfather Part II   \n",
            "4   19404          Dilwale Dulhania Le Jayenge   \n",
            "\n",
            "                                            overview release_date  popularity  \\\n",
            "0  After reuniting with Gwen Stacy, Brooklyn’s fu...   2023-05-31    2385.325   \n",
            "1  Spanning the years 1945 to 1955, a chronicle o...   1972-03-14     110.020   \n",
            "2  Framed in the 1940s for the double murder of h...   1994-09-23      74.129   \n",
            "3  In the continuing saga of the Corleone crime f...   1974-12-20      56.921   \n",
            "4  Raj is a rich, carefree, happy-go-lucky second...   1995-10-19      24.595   \n",
            "\n",
            "   vote_average  vote_count  \\\n",
            "0           8.7        1378   \n",
            "1           8.7       18093   \n",
            "2           8.7       23955   \n",
            "3           8.6       10921   \n",
            "4           8.6        4149   \n",
            "\n",
            "                                      short_overview   genre  runtime  \\\n",
            "0  After reuniting with Gwen Stacy, Brooklyn’s fu...  Action   8400.0   \n",
            "1  Spanning the years 1945 to 1955, a chronicle o...   Drama  10500.0   \n",
            "2  Framed in the 1940s for the double murder of h...   Drama   8520.0   \n",
            "3  In the continuing saga of the Corleone crime f...   Drama  12120.0   \n",
            "4  Raj is a rich, carefree, happy-go-lucky second...  Comedy  11400.0   \n",
            "\n",
            "                    country  \\\n",
            "0  United States of America   \n",
            "1  United States of America   \n",
            "2  United States of America   \n",
            "3  United States of America   \n",
            "4                     India   \n",
            "\n",
            "                                              actors              director  \\\n",
            "0  Shameik Moore, Hailee Steinfeld, Brian Tyree H...    Joaquim Dos Santos   \n",
            "1               Marlon Brando, Al Pacino, James Caan  Francis Ford Coppola   \n",
            "2            Tim Robbins, Morgan Freeman, Bob Gunton        Frank Darabont   \n",
            "3             Al Pacino, Robert Duvall, Diane Keaton  Francis Ford Coppola   \n",
            "4                 Shah Rukh Khan, Kajol, Amrish Puri         Aditya Chopra   \n",
            "\n",
            "                               movie_link  \\\n",
            "0  https://www.acrossthespiderverse.movie   \n",
            "1            http://www.thegodfather.com/   \n",
            "2                                           \n",
            "3                                           \n",
            "4                                           \n",
            "\n",
            "                                  trailer_link  feature  kid_restriction  \\\n",
            "0  https://www.youtube.com/watch?v=46spiINi3o0        1                0   \n",
            "1  https://www.youtube.com/watch?v=Ew9ngL1GZvs        1                0   \n",
            "2  https://www.youtube.com/watch?v=PLl99DlL6b4        1                0   \n",
            "3  https://www.youtube.com/watch?v=rcU6DUUUd7k        1                0   \n",
            "4  https://www.youtube.com/watch?v=oIZ4U21DRlM        1                0   \n",
            "\n",
            "   rating  release_year  \n",
            "0       5          2023  \n",
            "1       5          1972  \n",
            "2       5          1994  \n",
            "3       5          1974  \n",
            "4       5          1995  \n"
          ]
        },
        {
          "output_type": "stream",
          "name": "stderr",
          "text": [
            "<ipython-input-35-c4a50447050f>:60: FutureWarning: The frame.append method is deprecated and will be removed from pandas in a future version. Use pandas.concat instead.\n",
            "  df = df.append(temp_df, ignore_index=True)\n"
          ]
        }
      ]
    },
    {
      "cell_type": "code",
      "source": [
        "import pandas as pd\n",
        "\n",
        "# Load the existing DataFrame from CSV\n",
        "df = pd.read_csv('movie_top_rated.csv')\n",
        "\n",
        "unique_genres = df['genre'].unique().tolist()\n",
        "\n",
        "# Extract unique countries from the 'country' column\n",
        "unique_countries = df['country'].unique().tolist()\n",
        "\n",
        "# Extract unique actors from the 'actors' column\n",
        "unique_actors = df['actors'].str.split(', ').explode().unique().tolist()\n",
        "\n",
        "# Extract unique directors from the 'director' column\n",
        "unique_directors = df['director'].unique().tolist()\n",
        "\n",
        "# Create a dictionary to map genres to IDs\n",
        "genre_dict = {genre: i+1 for i, genre in enumerate(unique_genres)}\n",
        "\n",
        "# Create a dictionary to map countries to IDs\n",
        "country_dict = {country: i+1 for i, country in enumerate(unique_countries)}\n",
        "\n",
        "# Create a dictionary to map actors to IDs\n",
        "actor_dict = {actor: i+1 for i, actor in enumerate(unique_actors)}\n",
        "\n",
        "# Create a dictionary to map directors to IDs\n",
        "director_dict = {director: i+1 for i, director in enumerate(unique_directors)}\n",
        "\n",
        "# Create a new column 'genre_id' in the DataFrame and assign the corresponding genre ID\n",
        "df['genre_id'] = df['genre'].apply(lambda x: genre_dict.get(x, 'Unknown'))\n",
        "\n",
        "# Create a new column 'country_id' in the DataFrame and assign the corresponding country ID\n",
        "df['country_id'] = df['country'].apply(lambda x: country_dict.get(x, 'Unknown'))\n",
        "\n",
        "df['actors'] = df['actors'].fillna('')\n",
        "\n",
        "# Change the format of the \"actor_id\" column\n",
        "df['actor_id'] = df['actors'].str.split(', ').apply(lambda x: [str(actor_dict.get(actor, '1000')) for actor in x])\n",
        "\n",
        "# Create a new column 'director_id' in the DataFrame and assign the corresponding director ID\n",
        "df['director_id'] = df['director'].apply(lambda x: director_dict.get(x, 'Unknown'))\n",
        "\n",
        "# Select the desired columns and rearrange them\n",
        "selected_columns = [\n",
        "    'id', 'title', 'short_overview', 'overview', 'release_year', 'country_id',\n",
        "    'rating', 'genre_id', 'actor_id', 'director_id', 'feature', 'kid_restriction',\n",
        "    'trailer_link', 'movie_link', 'runtime'\n",
        "]\n",
        "# Reset the index and rename the new column as 'id' (auto-increment from 1)\n",
        "df['id'] = df.reset_index().index + 1\n",
        "\n",
        "# Convert the actor_id column to the desired format [\"1\", \"2\", \"3\"]\n",
        "df['actor_id'] = df['actor_id'].apply(lambda x: [str(i) for i in x])\n",
        "\n",
        "df['runtime'] = df['runtime'].astype(int)\n",
        "\n",
        "df = df[selected_columns]\n",
        "\n",
        "print(df.shape)\n",
        "\n",
        "df.head(10)\n",
        "\n",
        "# Export the updated DataFrame to a CSV file\n",
        "df.to_csv('movie_top_rated.csv', index=False)\n",
        "\n",
        "# Download the CSV file to your local machine\n",
        "files.download('movie_top_rated.csv')"
      ],
      "metadata": {
        "colab": {
          "base_uri": "https://localhost:8080/",
          "height": 34
        },
        "id": "rsy1n47Hcg_U",
        "outputId": "d776bbc7-7607-4956-ece2-0b9ba5cf11c9"
      },
      "execution_count": 36,
      "outputs": [
        {
          "output_type": "stream",
          "name": "stdout",
          "text": [
            "(580, 15)\n"
          ]
        },
        {
          "output_type": "display_data",
          "data": {
            "text/plain": [
              "<IPython.core.display.Javascript object>"
            ],
            "application/javascript": [
              "\n",
              "    async function download(id, filename, size) {\n",
              "      if (!google.colab.kernel.accessAllowed) {\n",
              "        return;\n",
              "      }\n",
              "      const div = document.createElement('div');\n",
              "      const label = document.createElement('label');\n",
              "      label.textContent = `Downloading \"${filename}\": `;\n",
              "      div.appendChild(label);\n",
              "      const progress = document.createElement('progress');\n",
              "      progress.max = size;\n",
              "      div.appendChild(progress);\n",
              "      document.body.appendChild(div);\n",
              "\n",
              "      const buffers = [];\n",
              "      let downloaded = 0;\n",
              "\n",
              "      const channel = await google.colab.kernel.comms.open(id);\n",
              "      // Send a message to notify the kernel that we're ready.\n",
              "      channel.send({})\n",
              "\n",
              "      for await (const message of channel.messages) {\n",
              "        // Send a message to notify the kernel that we're ready.\n",
              "        channel.send({})\n",
              "        if (message.buffers) {\n",
              "          for (const buffer of message.buffers) {\n",
              "            buffers.push(buffer);\n",
              "            downloaded += buffer.byteLength;\n",
              "            progress.value = downloaded;\n",
              "          }\n",
              "        }\n",
              "      }\n",
              "      const blob = new Blob(buffers, {type: 'application/binary'});\n",
              "      const a = document.createElement('a');\n",
              "      a.href = window.URL.createObjectURL(blob);\n",
              "      a.download = filename;\n",
              "      div.appendChild(a);\n",
              "      a.click();\n",
              "      div.remove();\n",
              "    }\n",
              "  "
            ]
          },
          "metadata": {}
        },
        {
          "output_type": "display_data",
          "data": {
            "text/plain": [
              "<IPython.core.display.Javascript object>"
            ],
            "application/javascript": [
              "download(\"download_dcb08ad5-3ea3-4f81-9bce-4aead4b8d66a\", \"movie_top_rated.csv\", 282619)"
            ]
          },
          "metadata": {}
        }
      ]
    },
    {
      "cell_type": "code",
      "source": [
        "df.dtypes"
      ],
      "metadata": {
        "colab": {
          "base_uri": "https://localhost:8080/"
        },
        "id": "DEUGfHpDV0qs",
        "outputId": "be1e86a5-4e97-4795-9208-ee6e4087007e"
      },
      "execution_count": 25,
      "outputs": [
        {
          "output_type": "execute_result",
          "data": {
            "text/plain": [
              "id                  int64\n",
              "title              object\n",
              "short_overview     object\n",
              "overview           object\n",
              "release_year        int64\n",
              "country_id          int64\n",
              "rating              int64\n",
              "genre_id            int64\n",
              "actor_id           object\n",
              "director_id         int64\n",
              "feature             int64\n",
              "kid_restriction     int64\n",
              "trailer_link       object\n",
              "movie_link         object\n",
              "runtime             int64\n",
              "dtype: object"
            ]
          },
          "metadata": {},
          "execution_count": 25
        }
      ]
    },
    {
      "cell_type": "code",
      "source": [
        "# Create a new DataFrame with unique genres and genre IDs\n",
        "unique_genres_df = pd.DataFrame({'genre_id': range(1, len(unique_genres) + 1), 'name': unique_genres})\n",
        "\n",
        "# Export the unique genres DataFrame to a CSV file\n",
        "unique_genres_df.to_csv('unique_genres.csv', index=False)\n",
        "\n",
        "# Download the CSV file to your local machine\n",
        "files.download('unique_genres.csv')"
      ],
      "metadata": {
        "colab": {
          "base_uri": "https://localhost:8080/",
          "height": 17
        },
        "id": "FZ_S5eYTdHl_",
        "outputId": "d8927dda-9a31-438d-be8c-0520ff2af1fb"
      },
      "execution_count": 17,
      "outputs": [
        {
          "output_type": "display_data",
          "data": {
            "text/plain": [
              "<IPython.core.display.Javascript object>"
            ],
            "application/javascript": [
              "\n",
              "    async function download(id, filename, size) {\n",
              "      if (!google.colab.kernel.accessAllowed) {\n",
              "        return;\n",
              "      }\n",
              "      const div = document.createElement('div');\n",
              "      const label = document.createElement('label');\n",
              "      label.textContent = `Downloading \"${filename}\": `;\n",
              "      div.appendChild(label);\n",
              "      const progress = document.createElement('progress');\n",
              "      progress.max = size;\n",
              "      div.appendChild(progress);\n",
              "      document.body.appendChild(div);\n",
              "\n",
              "      const buffers = [];\n",
              "      let downloaded = 0;\n",
              "\n",
              "      const channel = await google.colab.kernel.comms.open(id);\n",
              "      // Send a message to notify the kernel that we're ready.\n",
              "      channel.send({})\n",
              "\n",
              "      for await (const message of channel.messages) {\n",
              "        // Send a message to notify the kernel that we're ready.\n",
              "        channel.send({})\n",
              "        if (message.buffers) {\n",
              "          for (const buffer of message.buffers) {\n",
              "            buffers.push(buffer);\n",
              "            downloaded += buffer.byteLength;\n",
              "            progress.value = downloaded;\n",
              "          }\n",
              "        }\n",
              "      }\n",
              "      const blob = new Blob(buffers, {type: 'application/binary'});\n",
              "      const a = document.createElement('a');\n",
              "      a.href = window.URL.createObjectURL(blob);\n",
              "      a.download = filename;\n",
              "      div.appendChild(a);\n",
              "      a.click();\n",
              "      div.remove();\n",
              "    }\n",
              "  "
            ]
          },
          "metadata": {}
        },
        {
          "output_type": "display_data",
          "data": {
            "text/plain": [
              "<IPython.core.display.Javascript object>"
            ],
            "application/javascript": [
              "download(\"download_88e5a362-fdc6-460e-b2dc-316947effa70\", \"unique_genres.csv\", 171)"
            ]
          },
          "metadata": {}
        }
      ]
    },
    {
      "cell_type": "code",
      "source": [
        "# Create a new DataFrame with unique countries and country IDs\n",
        "unique_countries_df = pd.DataFrame({'country_id': range(1, len(unique_countries) + 1), 'name': unique_countries})\n",
        "\n",
        "# Export the unique countries DataFrame to a CSV file\n",
        "unique_countries_df.to_csv('unique_countries.csv', index=False)\n",
        "\n",
        "# Download the CSV file to your local machine\n",
        "files.download('unique_countries.csv')"
      ],
      "metadata": {
        "colab": {
          "base_uri": "https://localhost:8080/",
          "height": 17
        },
        "id": "TywMKeX86vr7",
        "outputId": "4c5033cb-a2e4-47d0-ba92-364fa3fb7c77"
      },
      "execution_count": 34,
      "outputs": [
        {
          "output_type": "display_data",
          "data": {
            "text/plain": [
              "<IPython.core.display.Javascript object>"
            ],
            "application/javascript": [
              "\n",
              "    async function download(id, filename, size) {\n",
              "      if (!google.colab.kernel.accessAllowed) {\n",
              "        return;\n",
              "      }\n",
              "      const div = document.createElement('div');\n",
              "      const label = document.createElement('label');\n",
              "      label.textContent = `Downloading \"${filename}\": `;\n",
              "      div.appendChild(label);\n",
              "      const progress = document.createElement('progress');\n",
              "      progress.max = size;\n",
              "      div.appendChild(progress);\n",
              "      document.body.appendChild(div);\n",
              "\n",
              "      const buffers = [];\n",
              "      let downloaded = 0;\n",
              "\n",
              "      const channel = await google.colab.kernel.comms.open(id);\n",
              "      // Send a message to notify the kernel that we're ready.\n",
              "      channel.send({})\n",
              "\n",
              "      for await (const message of channel.messages) {\n",
              "        // Send a message to notify the kernel that we're ready.\n",
              "        channel.send({})\n",
              "        if (message.buffers) {\n",
              "          for (const buffer of message.buffers) {\n",
              "            buffers.push(buffer);\n",
              "            downloaded += buffer.byteLength;\n",
              "            progress.value = downloaded;\n",
              "          }\n",
              "        }\n",
              "      }\n",
              "      const blob = new Blob(buffers, {type: 'application/binary'});\n",
              "      const a = document.createElement('a');\n",
              "      a.href = window.URL.createObjectURL(blob);\n",
              "      a.download = filename;\n",
              "      div.appendChild(a);\n",
              "      a.click();\n",
              "      div.remove();\n",
              "    }\n",
              "  "
            ]
          },
          "metadata": {}
        },
        {
          "output_type": "display_data",
          "data": {
            "text/plain": [
              "<IPython.core.display.Javascript object>"
            ],
            "application/javascript": [
              "download(\"download_4b767d89-fe9c-4ac7-92ea-be8554be4cf1\", \"unique_countries.csv\", 513)"
            ]
          },
          "metadata": {}
        }
      ]
    },
    {
      "cell_type": "code",
      "source": [
        "# Create a new DataFrame with unique actors and actor IDs\n",
        "unique_actors_df = pd.DataFrame({'actor_id': range(1, len(unique_actors) + 1), 'name': unique_actors})\n",
        "\n",
        "# Export the unique actors DataFrame to a CSV file\n",
        "unique_actors_df.to_csv('unique_actors.csv', index=False)\n",
        "\n",
        "# Download the CSV file to your local machine\n",
        "files.download('unique_actors.csv')"
      ],
      "metadata": {
        "colab": {
          "base_uri": "https://localhost:8080/",
          "height": 17
        },
        "id": "uEddM2SA60i6",
        "outputId": "e2516a4c-01bd-4880-d5bd-f9dd750f859f"
      },
      "execution_count": 35,
      "outputs": [
        {
          "output_type": "display_data",
          "data": {
            "text/plain": [
              "<IPython.core.display.Javascript object>"
            ],
            "application/javascript": [
              "\n",
              "    async function download(id, filename, size) {\n",
              "      if (!google.colab.kernel.accessAllowed) {\n",
              "        return;\n",
              "      }\n",
              "      const div = document.createElement('div');\n",
              "      const label = document.createElement('label');\n",
              "      label.textContent = `Downloading \"${filename}\": `;\n",
              "      div.appendChild(label);\n",
              "      const progress = document.createElement('progress');\n",
              "      progress.max = size;\n",
              "      div.appendChild(progress);\n",
              "      document.body.appendChild(div);\n",
              "\n",
              "      const buffers = [];\n",
              "      let downloaded = 0;\n",
              "\n",
              "      const channel = await google.colab.kernel.comms.open(id);\n",
              "      // Send a message to notify the kernel that we're ready.\n",
              "      channel.send({})\n",
              "\n",
              "      for await (const message of channel.messages) {\n",
              "        // Send a message to notify the kernel that we're ready.\n",
              "        channel.send({})\n",
              "        if (message.buffers) {\n",
              "          for (const buffer of message.buffers) {\n",
              "            buffers.push(buffer);\n",
              "            downloaded += buffer.byteLength;\n",
              "            progress.value = downloaded;\n",
              "          }\n",
              "        }\n",
              "      }\n",
              "      const blob = new Blob(buffers, {type: 'application/binary'});\n",
              "      const a = document.createElement('a');\n",
              "      a.href = window.URL.createObjectURL(blob);\n",
              "      a.download = filename;\n",
              "      div.appendChild(a);\n",
              "      a.click();\n",
              "      div.remove();\n",
              "    }\n",
              "  "
            ]
          },
          "metadata": {}
        },
        {
          "output_type": "display_data",
          "data": {
            "text/plain": [
              "<IPython.core.display.Javascript object>"
            ],
            "application/javascript": [
              "download(\"download_94b745c7-2566-45ec-a9eb-15f00b0b7bc4\", \"unique_actors.csv\", 25361)"
            ]
          },
          "metadata": {}
        }
      ]
    },
    {
      "cell_type": "code",
      "source": [
        "# Create a new DataFrame with unique directors and director IDs\n",
        "unique_directors_df = pd.DataFrame({'director_id': range(1, len(unique_directors) + 1), 'name': unique_directors})\n",
        "\n",
        "# Export the unique directors DataFrame to a CSV file\n",
        "unique_directors_df.to_csv('unique_directors.csv', index=False)\n",
        "\n",
        "# Download the CSV file to your local machine\n",
        "files.download('unique_directors.csv')"
      ],
      "metadata": {
        "colab": {
          "base_uri": "https://localhost:8080/",
          "height": 17
        },
        "id": "8yOEw5WR63rG",
        "outputId": "e3ef92c9-9233-43fb-f520-e32bd4330d34"
      },
      "execution_count": 36,
      "outputs": [
        {
          "output_type": "display_data",
          "data": {
            "text/plain": [
              "<IPython.core.display.Javascript object>"
            ],
            "application/javascript": [
              "\n",
              "    async function download(id, filename, size) {\n",
              "      if (!google.colab.kernel.accessAllowed) {\n",
              "        return;\n",
              "      }\n",
              "      const div = document.createElement('div');\n",
              "      const label = document.createElement('label');\n",
              "      label.textContent = `Downloading \"${filename}\": `;\n",
              "      div.appendChild(label);\n",
              "      const progress = document.createElement('progress');\n",
              "      progress.max = size;\n",
              "      div.appendChild(progress);\n",
              "      document.body.appendChild(div);\n",
              "\n",
              "      const buffers = [];\n",
              "      let downloaded = 0;\n",
              "\n",
              "      const channel = await google.colab.kernel.comms.open(id);\n",
              "      // Send a message to notify the kernel that we're ready.\n",
              "      channel.send({})\n",
              "\n",
              "      for await (const message of channel.messages) {\n",
              "        // Send a message to notify the kernel that we're ready.\n",
              "        channel.send({})\n",
              "        if (message.buffers) {\n",
              "          for (const buffer of message.buffers) {\n",
              "            buffers.push(buffer);\n",
              "            downloaded += buffer.byteLength;\n",
              "            progress.value = downloaded;\n",
              "          }\n",
              "        }\n",
              "      }\n",
              "      const blob = new Blob(buffers, {type: 'application/binary'});\n",
              "      const a = document.createElement('a');\n",
              "      a.href = window.URL.createObjectURL(blob);\n",
              "      a.download = filename;\n",
              "      div.appendChild(a);\n",
              "      a.click();\n",
              "      div.remove();\n",
              "    }\n",
              "  "
            ]
          },
          "metadata": {}
        },
        {
          "output_type": "display_data",
          "data": {
            "text/plain": [
              "<IPython.core.display.Javascript object>"
            ],
            "application/javascript": [
              "download(\"download_acad7913-4487-4a8f-bc77-3b068b84377d\", \"unique_directors.csv\", 7422)"
            ]
          },
          "metadata": {}
        }
      ]
    }
  ]
}